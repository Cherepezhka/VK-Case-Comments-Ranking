{
 "cells": [
  {
   "cell_type": "code",
   "execution_count": 1,
   "metadata": {},
   "outputs": [],
   "source": [
    "from catboost import Pool, cv, CatBoostRanker\n",
    "import pandas as pd\n",
    "import numpy as np\n",
    "from sklearn.metrics import ndcg_score"
   ]
  },
  {
   "attachments": {},
   "cell_type": "markdown",
   "metadata": {},
   "source": [
    "## Считываем и объединяем данные\n"
   ]
  },
  {
   "cell_type": "code",
   "execution_count": 2,
   "metadata": {},
   "outputs": [],
   "source": [
    "train_bert_features = pd.read_parquet(\n",
    "    \"data/df_train_BERT_features.parquet\", engine=\"pyarrow\"\n",
    ")\n",
    "train_features = pd.read_parquet(\n",
    "    \"data/df_train_with_features.parquet\", engine=\"pyarrow\"\n",
    ")\n",
    "test_bert_features = pd.read_parquet(\n",
    "    \"data/df_test_BERT_features.parquet\", engine=\"pyarrow\"\n",
    ")\n",
    "test_features = pd.read_parquet(\n",
    "    \"data/df_test_with_features.parquet\", engine=\"pyarrow\"\n",
    ")"
   ]
  },
  {
   "attachments": {},
   "cell_type": "markdown",
   "metadata": {},
   "source": [
    "Отбираем данные на которых будем обучать модель. В _train_ попадут только данные о постах, в которых суммарная длина комментария и поста не превышает 512 символов(ограничения семейства моделей Bert).\n"
   ]
  },
  {
   "cell_type": "code",
   "execution_count": 3,
   "metadata": {},
   "outputs": [],
   "source": [
    "train = train_features.join(train_bert_features, how=\"inner\")\n",
    "test = pd.concat([test_features, test_bert_features], axis=1)\n"
   ]
  },
  {
   "cell_type": "code",
   "execution_count": 4,
   "metadata": {},
   "outputs": [],
   "source": [
    "X_train = (\n",
    "    train.select_dtypes(\"number\")\n",
    "    .drop([\"post_index\", \"comment_score\"], axis=1)\n",
    "    .to_numpy()\n",
    ")\n",
    "y_train = (train[\"comment_score\"] / train[\"comment_score\"].max()).to_numpy()\n",
    "queries_train = train[\"post_index\"].to_numpy()"
   ]
  },
  {
   "cell_type": "code",
   "execution_count": 5,
   "metadata": {},
   "outputs": [],
   "source": [
    "train_pool = Pool(data=X_train, label=y_train, group_id=queries_train)\n"
   ]
  },
  {
   "attachments": {},
   "cell_type": "markdown",
   "metadata": {},
   "source": [
    "Коэффициент нормализованной средней степени согласованности (NDCG) можно записать следующим образом:\n",
    "\n",
    "$$NDCG_k = \\frac{DCG_k}{IDCG_k}$$\n",
    "\n",
    "где $DCG_k$ - оценка совокупной степени согласованности для топ $k$ элементов, а $IDCG_k$ - максимально возможная оценка совокупной степени согласованности для данного топа $k$.\n",
    "\n",
    "Формула DCG (Discounted Cumulative Gain):\n",
    "\n",
    "$$DCG_k = \\sum_{i=1}^{k}\\frac{2^{rel_i}-1}{\\log_2(1+i)},$$\n",
    "\n",
    "Здесь $k$ - количество рекомендаций, $rel_i$ - релевантность $i$-го элемента рекомендации.\n",
    "\n",
    "IDCG (Ideal Discounted Cumulative Gain):\n",
    "\n",
    "$$IDCG_p = \\sum_{i=1}^{|rel|} \\frac{2^{rel_i}-1}{\\log_2 (i+1)}$$\n",
    "\n",
    "где $rel$ - это список релевантности для первых $p$ документов.\n"
   ]
  },
  {
   "attachments": {},
   "cell_type": "markdown",
   "metadata": {},
   "source": [
    "Метрику проверяем на кроссвалидации по 3 фолдам, в качестве функции потерь выбираем с учётом специфики задачи QueryRMSE, который используется для задач ранжирования.\n"
   ]
  },
  {
   "cell_type": "code",
   "execution_count": 6,
   "metadata": {},
   "outputs": [
    {
     "name": "stderr",
     "output_type": "stream",
     "text": [
      "Default metric period is 5 because NDCG is/are not implemented for GPU\n",
      "Warning: Overfitting detector is active, thus evaluation metric is calculated on every iteration. 'metric_period' is ignored for evaluation metric.\n"
     ]
    },
    {
     "name": "stdout",
     "output_type": "stream",
     "text": [
      "Training on fold [0/3]\n"
     ]
    },
    {
     "name": "stderr",
     "output_type": "stream",
     "text": [
      "Metric NDCG:type=Base is not implemented on GPU. Will use CPU for metric computation, this could significantly affect learning time\n"
     ]
    },
    {
     "name": "stdout",
     "output_type": "stream",
     "text": [
      "0:\tlearn: 0.3501607\ttest: 0.3501796\tbest: 0.3501796 (0)\ttotal: 322ms\tremaining: 5m 21s\n",
      "200:\tlearn: 0.3123653\ttest: 0.3222483\tbest: 0.3222483 (200)\ttotal: 1m 29s\tremaining: 5m 57s\n",
      "bestTest = 0.3221124573\n",
      "bestIteration = 248\n",
      "Training on fold [1/3]\n"
     ]
    },
    {
     "name": "stderr",
     "output_type": "stream",
     "text": [
      "Metric NDCG:type=Base is not implemented on GPU. Will use CPU for metric computation, this could significantly affect learning time\n"
     ]
    },
    {
     "name": "stdout",
     "output_type": "stream",
     "text": [
      "0:\tlearn: 0.3501337\ttest: 0.3501410\tbest: 0.3501410 (0)\ttotal: 449ms\tremaining: 7m 28s\n",
      "200:\tlearn: 0.3119554\ttest: 0.3225304\tbest: 0.3225304 (200)\ttotal: 59.4s\tremaining: 3m 56s\n",
      "bestTest = 0.3224766537\n",
      "bestIteration = 215\n",
      "Training on fold [2/3]\n"
     ]
    },
    {
     "name": "stderr",
     "output_type": "stream",
     "text": [
      "Metric NDCG:type=Base is not implemented on GPU. Will use CPU for metric computation, this could significantly affect learning time\n"
     ]
    },
    {
     "name": "stdout",
     "output_type": "stream",
     "text": [
      "0:\tlearn: 0.3500751\ttest: 0.3501814\tbest: 0.3501814 (0)\ttotal: 264ms\tremaining: 4m 23s\n",
      "200:\tlearn: 0.3120683\ttest: 0.3232070\tbest: 0.3232070 (200)\ttotal: 57.4s\tremaining: 3m 48s\n",
      "bestTest = 0.323167491\n",
      "bestIteration = 238\n"
     ]
    }
   ],
   "source": [
    "params = {\n",
    "    \"iterations\": 1000,\n",
    "    \"learning_rate\": 0.1,\n",
    "    \"depth\": 6,\n",
    "    \"loss_function\": \"QueryRMSE\",\n",
    "    \"custom_metric\": [\"NDCG\"],\n",
    "    \"random_seed\": 42,\n",
    "    \"task_type\": \"GPU\",\n",
    "    \"verbose\": 200,\n",
    "    \"early_stopping_rounds\": 50,\n",
    "}\n",
    "\n",
    "# Кросс-валидация с помощью 3-кратной перекрестной проверки с группами\n",
    "cv_results = cv(\n",
    "    train_pool,\n",
    "    params,\n",
    "    fold_count=3,\n",
    "    partition_random_seed=42,\n",
    "    shuffle=True,\n",
    "    stratified=False,\n",
    ")"
   ]
  },
  {
   "cell_type": "code",
   "execution_count": 7,
   "metadata": {},
   "outputs": [
    {
     "name": "stdout",
     "output_type": "stream",
     "text": [
      "0.8789187736055568\n"
     ]
    }
   ],
   "source": [
    "# Вывод результатов перекрестной проверки\n",
    "print(cv_results[\"test-NDCG:type=Base-mean\"].mean())"
   ]
  },
  {
   "cell_type": "code",
   "execution_count": 8,
   "metadata": {},
   "outputs": [
    {
     "name": "stderr",
     "output_type": "stream",
     "text": [
      "Default metric period is 5 because NDCG is/are not implemented for GPU\n",
      "Metric NDCG:type=Base is not implemented on GPU. Will use CPU for metric computation, this could significantly affect learning time\n"
     ]
    },
    {
     "name": "stdout",
     "output_type": "stream",
     "text": [
      "0:\tlearn: 0.3501379\ttotal: 79.6ms\tremaining: 1m 19s\n",
      "200:\tlearn: 0.3134174\ttotal: 12.7s\tremaining: 50.4s\n",
      "400:\tlearn: 0.3036466\ttotal: 24.8s\tremaining: 37s\n",
      "600:\tlearn: 0.2946905\ttotal: 37.4s\tremaining: 24.8s\n",
      "800:\tlearn: 0.2862459\ttotal: 48.7s\tremaining: 12.1s\n",
      "999:\tlearn: 0.2781984\ttotal: 1m 7s\tremaining: 0us\n",
      "0.9258527044266047\n"
     ]
    }
   ],
   "source": [
    "# NDCG на полных данных\n",
    "\n",
    "model = CatBoostRanker(**params)\n",
    "model.fit(train_pool)\n",
    "ndcg_full_train = ndcg_score(\n",
    "    y_train.reshape(-1, 5), model.predict(X_train).reshape(-1, 5)\n",
    ")\n",
    "print(ndcg_full_train)"
   ]
  }
 ],
 "metadata": {
  "kernelspec": {
   "display_name": ".venv",
   "language": "python",
   "name": "python3"
  },
  "language_info": {
   "codemirror_mode": {
    "name": "ipython",
    "version": 3
   },
   "file_extension": ".py",
   "mimetype": "text/x-python",
   "name": "python",
   "nbconvert_exporter": "python",
   "pygments_lexer": "ipython3",
   "version": "3.9.13"
  },
  "orig_nbformat": 4
 },
 "nbformat": 4,
 "nbformat_minor": 2
}
