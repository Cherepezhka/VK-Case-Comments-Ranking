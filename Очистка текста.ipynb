{
  "cells": [
    {
      "attachments": {},
      "cell_type": "markdown",
      "metadata": {},
      "source": [
        "Установим библиотеку для раскрытия кратких форм в английском языке (I`m -> I am)"
      ]
    },
    {
      "cell_type": "code",
      "execution_count": null,
      "metadata": {
        "id": "eJvEo4WxhbCr"
      },
      "outputs": [],
      "source": [
        "!pip install contractions -q"
      ]
    },
    {
      "attachments": {},
      "cell_type": "markdown",
      "metadata": {},
      "source": [
        "## Импортируем библиотеки "
      ]
    },
    {
      "cell_type": "code",
      "execution_count": null,
      "metadata": {
        "id": "A9_W27Glhi1c"
      },
      "outputs": [],
      "source": [
        "import html\n",
        "import gdown\n",
        "import pandas as pd\n",
        "import contractions"
      ]
    },
    {
      "attachments": {},
      "cell_type": "markdown",
      "metadata": {},
      "source": [
        "## Выгрузим исходные данные"
      ]
    },
    {
      "cell_type": "code",
      "execution_count": null,
      "metadata": {
        "colab": {
          "base_uri": "https://localhost:8080/"
        },
        "id": "Z813BQr_hzIO",
        "outputId": "3cb2c67a-a2aa-4a52-c40c-12f713d758b6"
      },
      "outputs": [
        {
          "name": "stdout",
          "output_type": "stream",
          "text": [
            "<class 'pandas.core.frame.DataFrame'>\n",
            "RangeIndex: 88107 entries, 0 to 88106\n",
            "Data columns (total 2 columns):\n",
            " #   Column    Non-Null Count  Dtype \n",
            "---  ------    --------------  ----- \n",
            " 0   text      88107 non-null  object\n",
            " 1   comments  88107 non-null  object\n",
            "dtypes: object(2)\n",
            "memory usage: 1.3+ MB\n",
            "<class 'pandas.core.frame.DataFrame'>\n",
            "RangeIndex: 14004 entries, 0 to 14003\n",
            "Data columns (total 2 columns):\n",
            " #   Column    Non-Null Count  Dtype \n",
            "---  ------    --------------  ----- \n",
            " 0   text      14004 non-null  object\n",
            " 1   comments  14004 non-null  object\n",
            "dtypes: object(2)\n",
            "memory usage: 218.9+ KB\n"
          ]
        }
      ],
      "source": [
        "df_train = pd.read_json('ranking_train.jsonl', lines=True)\n",
        "df_test = pd.read_json('ranking_test.jsonl', lines=True)\n",
        "\n",
        "df_train.info()\n",
        "df_test.info()"
      ]
    },
    {
      "attachments": {},
      "cell_type": "markdown",
      "metadata": {},
      "source": [
        "Шаги предобработки данных:\n",
        "1. Создается регулярное выражение pattern_post_text для замены url в текстах постов.\n",
        "2. Создается регулярное выражение pattern_comm_text для замены url в текстах комментариев.\n",
        "3. Создается копия переданного DataFrame df.\n",
        "4. DataFrame df \"разворачивается\", то есть каждый элемент в столбце комментариев становится отдельной строкой.\n",
        "5. Из столбца комментариев создаются два столбца: comment_text и comment_score.\n",
        "6. Столбец комментариев удаляется из DataFrame df.\n",
        "7. Столбцы переименовываются: index -> post_index, text -> post_text.\n",
        "8. Тексты постов и комментариев декодируются из HTML-сущностей и исправляются апострофы.\n",
        "9. Тексты постов и комментариев приводятся к нижнему регистру, заменяются множественные пробелы на один, а ссылки заменяются на слово \"url\".\n",
        "10. В DataFrame добавляются два новых столбца: post_text_fix и comment_text_fix, которые содержат предобработанные тексты постов и комментариев соответственно.\n",
        "11. DataFrame сохраняется в файл с помощью функции to_feather(), используя переданный путь filepath."
      ]
    },
    {
      "cell_type": "code",
      "execution_count": null,
      "metadata": {
        "id": "y658z61NoT8r"
      },
      "outputs": [],
      "source": [
        "def prep_dataframes(df, filepath):\n",
        "    \"\"\"\n",
        "    Функция prep_dataframes() выполняет предобработку данных в переданном DataFrame. \n",
        "\n",
        "    Аргументы функции:\n",
        "    - df: DataFrame, который нужно предобработать\n",
        "    - filepath: строка с путем для сохранения файла с предобработанными данными\n",
        "\n",
        "    Результат:\n",
        "    - функция сохраняет DataFrame с предобработанными данными в формате feather, используя переданный путь filepath.\n",
        "    \"\"\"\n",
        "\n",
        "    pattern_post_text = r\"\"\"(?:https?://|www\\.)\\S+\\b(?!.*\\?(?=[^\\s\\)\\]]))/?\"\"\"\n",
        "    pattern_comm_text = r\"\"\"(?:https?://|www\\.)\\S+?(?=\\[|$|\\s)\"\"\"\n",
        "\n",
        "    df = df.copy()\n",
        "    df = df.explode('comments').reset_index()\n",
        "    df[['comment_text', 'comment_score']] = \\\n",
        "        pd.DataFrame.from_records(df['comments'].values)\n",
        "    df = df.drop('comments', axis=1)\n",
        "    df = df.rename(columns={'index': 'post_index', 'text': 'post_text'})\n",
        "    df[['post_text', 'comment_text']] = (\n",
        "        df[['post_text', 'comment_text']]\n",
        "        .applymap(html.unescape)\n",
        "        .applymap(contractions.fix))\n",
        "    df['post_text_fix'] = df['post_text'].str.lower().str.replace(r\"\\s+\", ' ', regex=True).str.replace(pattern_post_text, 'url', regex=True)\n",
        "    df['comment_text_fix'] = df['comment_text'].str.lower().str.replace(r\"\\s+\", ' ', regex=True).str.replace(pattern_comm_text, 'url', regex=True)\n",
        "    df.to_feather(filepath)\n",
        "\n",
        "prep_dataframes(df_train, 'df_train_BERT.feather')\n",
        "prep_dataframes(df_test, 'df_test_BERT.feather')"
      ]
    }
  ],
  "metadata": {
    "colab": {
      "provenance": []
    },
    "kernelspec": {
      "display_name": "Python 3",
      "name": "python3"
    },
    "language_info": {
      "name": "python"
    }
  },
  "nbformat": 4,
  "nbformat_minor": 0
}
